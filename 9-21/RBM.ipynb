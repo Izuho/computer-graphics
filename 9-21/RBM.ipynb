{
  "nbformat": 4,
  "nbformat_minor": 0,
  "metadata": {
    "colab": {
      "provenance": [],
      "authorship_tag": "ABX9TyOo6dOOwGaLqFk6jymHPH8C",
      "include_colab_link": true
    },
    "kernelspec": {
      "name": "python3",
      "display_name": "Python 3"
    },
    "language_info": {
      "name": "python"
    }
  },
  "cells": [
    {
      "cell_type": "markdown",
      "metadata": {
        "id": "view-in-github",
        "colab_type": "text"
      },
      "source": [
        "<a href=\"https://colab.research.google.com/github/Izuho/computer-graphics/blob/main/9-21/RBM.ipynb\" target=\"_parent\"><img src=\"https://colab.research.google.com/assets/colab-badge.svg\" alt=\"Open In Colab\"/></a>"
      ]
    },
    {
      "cell_type": "code",
      "source": [
        "import tensorflow as tf\n",
        "\n",
        "import distutils\n",
        "if distutils.version.LooseVersion(tf.__version__) <= '2.0':\n",
        "    raise Exception('This notebook is compatible with TensorFlow 1.14 or higher, for TensorFlow 1.13 or lower please use the previous version at https://github.com/tensorflow/tpu/blob/r1.13/tools/colab/fashion_mnist.ipynb')\n",
        "\n",
        "(x_train, y_train), (x_test, y_test) = tf.keras.datasets.fashion_mnist.load_data()\n",
        "x_train = x_train / 255.0\n",
        "x_test = x_test / 255.0"
      ],
      "metadata": {
        "colab": {
          "base_uri": "https://localhost:8080/"
        },
        "id": "UmErv8ITy-m4",
        "outputId": "ce901382-a407-413e-e049-157ed85a451b"
      },
      "execution_count": 1,
      "outputs": [
        {
          "output_type": "stream",
          "name": "stdout",
          "text": [
            "32768/29515 [=================================] - 0s 0us/step\n",
            "40960/29515 [=========================================] - 0s 0us/step\n",
            "Downloading data from https://storage.googleapis.com/tensorflow/tf-keras-datasets/train-images-idx3-ubyte.gz\n",
            "26427392/26421880 [==============================] - 0s 0us/step\n",
            "26435584/26421880 [==============================] - 0s 0us/step\n",
            "Downloading data from https://storage.googleapis.com/tensorflow/tf-keras-datasets/t10k-labels-idx1-ubyte.gz\n",
            "16384/5148 [===============================================================================================] - 0s 0us/step\n",
            "Downloading data from https://storage.googleapis.com/tensorflow/tf-keras-datasets/t10k-images-idx3-ubyte.gz\n",
            "4423680/4422102 [==============================] - 0s 0us/step\n",
            "4431872/4422102 [==============================] - 0s 0us/step\n"
          ]
        }
      ]
    },
    {
      "cell_type": "code",
      "source": [
        "print('学習用写真 : ', x_train.shape, '\\n学習用ラベル : ', y_train.shape, '\\nテスト用写真 : ', x_test.shape, '\\nテスト用ラベル : ', y_test.shape)"
      ],
      "metadata": {
        "colab": {
          "base_uri": "https://localhost:8080/"
        },
        "id": "YSpqeq3szN_A",
        "outputId": "55dbe4a5-df8b-4923-b3f0-f2058ae54974"
      },
      "execution_count": 2,
      "outputs": [
        {
          "output_type": "stream",
          "name": "stdout",
          "text": [
            "学習用写真 :  (60000, 28, 28) \n",
            "学習用ラベル :  (60000,) \n",
            "テスト用写真 :  (10000, 28, 28) \n",
            "テスト用ラベル :  (10000,)\n"
          ]
        }
      ]
    },
    {
      "cell_type": "code",
      "execution_count": null,
      "metadata": {
        "colab": {
          "base_uri": "https://localhost:8080/"
        },
        "id": "Qw2X1ofnsr5Q",
        "outputId": "e6b00cc5-9dc3-4562-8e2a-e77a72627eaa"
      },
      "outputs": [
        {
          "output_type": "stream",
          "name": "stderr",
          "text": [
            "/usr/local/lib/python3.7/dist-packages/ipykernel_launcher.py:44: RuntimeWarning: overflow encountered in exp\n"
          ]
        },
        {
          "output_type": "stream",
          "name": "stdout",
          "text": [
            "0  epochs :  28.89368987083435  sec\n",
            "        diff :  0.2768157262905162\n",
            "1  epochs :  30.191098928451538  sec\n",
            "        diff :  0.13104741896758704\n",
            "2  epochs :  27.823135137557983  sec\n",
            "        diff :  0.14612845138055222\n",
            "3  epochs :  44.95820426940918  sec\n",
            "        diff :  0.3206732693077231\n",
            "4  epochs :  29.61011266708374  sec\n",
            "        diff :  0.3225640256102441\n",
            "5  epochs :  28.007046937942505  sec\n",
            "        diff :  0.2993347338935574\n",
            "6  epochs :  27.97175931930542  sec\n",
            "        diff :  0.28652961184473785\n",
            "7  epochs :  27.894603490829468  sec\n",
            "        diff :  0.31147458983593435\n",
            "8  epochs :  27.968143701553345  sec\n",
            "        diff :  0.30645258103241296\n",
            "9  epochs :  27.927820444107056  sec\n",
            "        diff :  0.29801420568227294\n",
            "10  epochs :  28.049454927444458  sec\n",
            "        diff :  0.3046468587434974\n",
            "11  epochs :  27.915213108062744  sec\n",
            "        diff :  0.2876650660264105\n",
            "12  epochs :  28.0210919380188  sec\n",
            "        diff :  0.31273509403761507\n",
            "13  epochs :  28.10872483253479  sec\n",
            "        diff :  0.3063325330132053\n"
          ]
        }
      ],
      "source": [
        "import numpy as np\n",
        "import time\n",
        "\n",
        "class RBM:\n",
        "\n",
        "    def __init__(self, n_v, n_h):\n",
        "\n",
        "        self.w = np.random.randn(n_h, n_v)\n",
        "        self.b = np.random.randn(n_h, 1)\n",
        "        self.a = np.random.randn(n_v, 1)\n",
        "        self.err = []\n",
        "\n",
        "    def train(self, V, epsilon, epoch, T):\n",
        "        for epo in range(epoch):\n",
        "            start = time.time()\n",
        "            for (n, v_0) in enumerate(V):\n",
        "                v_0 = np.copy(v_0).reshape(-1, 1)\n",
        "                p_h_0 = np.copy(self.sigmoid(self.w.dot(v_0) + self.b))\n",
        "\n",
        "                v, p_h = self.encode_decode(np.copy(v_0), T)\n",
        "                self.update(v_0, v, p_h_0, p_h, epsilon)\n",
        "            error = np.mean(np.abs(v_0 - v))\n",
        "            self.err.append(error)\n",
        "            print(epo, ' epochs : ', time.time() - start, ' sec\\n        diff : ', error)\n",
        "\n",
        "    def encode_decode(self, v, T):\n",
        "        for t in range(T):\n",
        "            # visible\n",
        "            p_h = self.sigmoid(self.w.dot(v) + self.b)\n",
        "            h = (np.random.rand(n_h, 1) < p_h).astype('float64')\n",
        "\n",
        "            # hidden\n",
        "            p_v = self.sigmoid(self.w.T.dot(h) + self.a)\n",
        "            v = (np.random.rand(n_v, 1) < p_v).astype('float64')\n",
        "\n",
        "        return (v, p_h)\n",
        "\n",
        "    def update(self, v_0, v, p_h_0, p_h, epsilon):\n",
        "        self.w += epsilon * (v_0.T * p_h_0 - v.T * p_h)\n",
        "        self.a += epsilon * (v_0 - v)\n",
        "        self.b += epsilon * (p_h_0 - p_h)\n",
        "\n",
        "    def sigmoid(self, x):\n",
        "        return 1.0 / (1.0 + np.exp(-x))\n",
        "\n",
        "\n",
        "if __name__ == \"__main__\":\n",
        "    # init parameters\n",
        "    N = 60000\n",
        "    side = 28\n",
        "    n_v = side ** 2\n",
        "    n_h = 100\n",
        "    T = 1\n",
        "    x_train_flat = x_train.reshape(-1, n_v)\n",
        "    x_test_flat = np.where(x_train_flat <= 0.5, 0.0, 1.0)\n",
        "    # train\n",
        "    rbm = RBM(n_v, n_h)\n",
        "    rbm.train(x_train, 0.1, 200, T)"
      ]
    },
    {
      "cell_type": "code",
      "source": [
        "import matplotlib.pyplot as plt\n",
        "\n",
        "plt.plot(rbm.err)"
      ],
      "metadata": {
        "id": "0piC-ITk7wy-"
      },
      "execution_count": null,
      "outputs": []
    },
    {
      "cell_type": "code",
      "source": [
        "x_test = np.where(x_test <= 0.5, 0.0, 1.0))\n",
        "x_test_flat = x_test_flat.reshape(-1, n_v)\n",
        "decoded_imgs_flat, _ = rbm.encode_decode(x_test_flat, T)\n",
        "decoded_imgs = decoded_imgs_flat.reshape(-1, side, side)"
      ],
      "metadata": {
        "id": "yaZsf70W03YS"
      },
      "execution_count": null,
      "outputs": []
    },
    {
      "cell_type": "code",
      "source": [
        "n = 10\n",
        "plt.figure(figsize=(20, 4))\n",
        "for i in range(n):\n",
        "  # display original\n",
        "  ax = plt.subplot(2, n, i + 1)\n",
        "  plt.imshow(x_test[i])\n",
        "  plt.title(\"original\")\n",
        "  plt.gray()\n",
        "  ax.get_xaxis().set_visible(False)\n",
        "  ax.get_yaxis().set_visible(False)\n",
        "\n",
        "  # display reconstruction\n",
        "  ax = plt.subplot(2, n, i + 1 + n)\n",
        "  plt.imshow(decoded_imgs[i])\n",
        "  plt.title(\"reconstructed\")\n",
        "  plt.gray()\n",
        "  ax.get_xaxis().set_visible(False)\n",
        "  ax.get_yaxis().set_visible(False)\n",
        "plt.show()"
      ],
      "metadata": {
        "id": "bSO4xVlFyNCj"
      },
      "execution_count": null,
      "outputs": []
    }
  ]
}