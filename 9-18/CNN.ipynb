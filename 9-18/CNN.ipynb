{
  "nbformat": 4,
  "nbformat_minor": 0,
  "metadata": {
    "colab": {
      "provenance": [],
      "authorship_tag": "ABX9TyM7KPhTzqYs/daH6gLKWk2Z",
      "include_colab_link": true
    },
    "kernelspec": {
      "name": "python3",
      "display_name": "Python 3"
    },
    "language_info": {
      "name": "python"
    }
  },
  "cells": [
    {
      "cell_type": "markdown",
      "metadata": {
        "id": "view-in-github",
        "colab_type": "text"
      },
      "source": [
        "<a href=\"https://colab.research.google.com/github/Izuho/computer-graphics/blob/main/9-18/CNN.ipynb\" target=\"_parent\"><img src=\"https://colab.research.google.com/assets/colab-badge.svg\" alt=\"Open In Colab\"/></a>"
      ]
    },
    {
      "cell_type": "code",
      "execution_count": 1,
      "metadata": {
        "colab": {
          "base_uri": "https://localhost:8080/"
        },
        "id": "Ish2bA6tcKCo",
        "outputId": "9da5c034-3c8e-4ae1-e22c-01fcece355c0"
      },
      "outputs": [
        {
          "output_type": "stream",
          "name": "stdout",
          "text": [
            "Downloading data from https://storage.googleapis.com/tensorflow/tf-keras-datasets/train-labels-idx1-ubyte.gz\n",
            "32768/29515 [=================================] - 0s 0us/step\n",
            "40960/29515 [=========================================] - 0s 0us/step\n",
            "Downloading data from https://storage.googleapis.com/tensorflow/tf-keras-datasets/train-images-idx3-ubyte.gz\n",
            "26427392/26421880 [==============================] - 0s 0us/step\n",
            "26435584/26421880 [==============================] - 0s 0us/step\n",
            "Downloading data from https://storage.googleapis.com/tensorflow/tf-keras-datasets/t10k-labels-idx1-ubyte.gz\n",
            "16384/5148 [===============================================================================================] - 0s 0us/step\n",
            "Downloading data from https://storage.googleapis.com/tensorflow/tf-keras-datasets/t10k-images-idx3-ubyte.gz\n",
            "4423680/4422102 [==============================] - 0s 0us/step\n",
            "4431872/4422102 [==============================] - 0s 0us/step\n"
          ]
        }
      ],
      "source": [
        "import tensorflow as tf\n",
        "\n",
        "import distutils\n",
        "if distutils.version.LooseVersion(tf.__version__) <= '2.0':\n",
        "    raise Exception('This notebook is compatible with TensorFlow 1.14 or higher, for TensorFlow 1.13 or lower please use the previous version at https://github.com/tensorflow/tpu/blob/r1.13/tools/colab/fashion_mnist.ipynb')\n",
        "\n",
        "(x_train, y_train), (x_test, y_test) = tf.keras.datasets.fashion_mnist.load_data()\n",
        "x_train = x_train / 255.0\n",
        "x_test = x_test / 255.0"
      ]
    },
    {
      "cell_type": "code",
      "source": [
        "print('学習用写真 : ', x_train.shape, '\\n学習用ラベル : ', y_train.shape, '\\nテスト用写真 : ', x_test.shape, '\\nテスト用ラベル : ', y_test.shape)"
      ],
      "metadata": {
        "colab": {
          "base_uri": "https://localhost:8080/"
        },
        "id": "jnu-kHnGcWYz",
        "outputId": "e5a86820-13d2-47c9-fb28-32c842e3f2d8"
      },
      "execution_count": 2,
      "outputs": [
        {
          "output_type": "stream",
          "name": "stdout",
          "text": [
            "学習用写真 :  (60000, 28, 28) \n",
            "学習用ラベル :  (60000,) \n",
            "テスト用写真 :  (10000, 28, 28) \n",
            "テスト用ラベル :  (10000,)\n"
          ]
        }
      ]
    },
    {
      "cell_type": "code",
      "source": [
        "from tensorflow.keras import layers, models\n",
        "\n",
        "model = models.Sequential()\n",
        "model.add(layers.Conv2D(32, (3, 3), activation='relu', input_shape=(28, 28, 1)))\n",
        "model.add(layers.MaxPooling2D((2, 2)))\n",
        "model.add(layers.Conv2D(64, (3, 3), activation='relu'))\n",
        "model.add(layers.MaxPooling2D((2, 2)))\n",
        "model.add(layers.Conv2D(64, (3, 3), activation='relu'))"
      ],
      "metadata": {
        "id": "r1K6ffngcfYp"
      },
      "execution_count": 12,
      "outputs": []
    },
    {
      "cell_type": "code",
      "source": [
        "model.add(layers.Flatten())\n",
        "model.add(layers.Dense(64, activation='relu'))\n",
        "model.add(layers.Dense(10, activation='softmax'))"
      ],
      "metadata": {
        "id": "VIygpZ4dci5K"
      },
      "execution_count": 13,
      "outputs": []
    },
    {
      "cell_type": "code",
      "source": [
        "model.summary()"
      ],
      "metadata": {
        "colab": {
          "base_uri": "https://localhost:8080/"
        },
        "id": "T7R59-4Ocj_o",
        "outputId": "4f99cc44-59d3-4b2f-f3eb-6fc6e65ef6bb"
      },
      "execution_count": 8,
      "outputs": [
        {
          "output_type": "stream",
          "name": "stdout",
          "text": [
            "Model: \"sequential_1\"\n",
            "_________________________________________________________________\n",
            " Layer (type)                Output Shape              Param #   \n",
            "=================================================================\n",
            " conv2d_3 (Conv2D)           (None, 26, 26, 32)        320       \n",
            "                                                                 \n",
            " max_pooling2d_2 (MaxPooling  (None, 13, 13, 32)       0         \n",
            " 2D)                                                             \n",
            "                                                                 \n",
            " conv2d_4 (Conv2D)           (None, 11, 11, 64)        18496     \n",
            "                                                                 \n",
            " max_pooling2d_3 (MaxPooling  (None, 5, 5, 64)         0         \n",
            " 2D)                                                             \n",
            "                                                                 \n",
            " conv2d_5 (Conv2D)           (None, 3, 3, 64)          36928     \n",
            "                                                                 \n",
            " flatten_1 (Flatten)         (None, 576)               0         \n",
            "                                                                 \n",
            " dense_2 (Dense)             (None, 64)                36928     \n",
            "                                                                 \n",
            " dense_3 (Dense)             (None, 10)                650       \n",
            "                                                                 \n",
            "=================================================================\n",
            "Total params: 93,322\n",
            "Trainable params: 93,322\n",
            "Non-trainable params: 0\n",
            "_________________________________________________________________\n"
          ]
        }
      ]
    },
    {
      "cell_type": "code",
      "source": [
        "model.compile(optimizer='adam',\n",
        "              loss='sparse_categorical_crossentropy',\n",
        "              metrics=['accuracy'])"
      ],
      "metadata": {
        "id": "BkyYN_6ddM-h"
      },
      "execution_count": 14,
      "outputs": []
    },
    {
      "cell_type": "code",
      "source": [
        "import matplotlib.pyplot as plt\n",
        "import numpy as np\n",
        "#KFoldのインポート\n",
        "from sklearn.model_selection import KFold\n",
        " \n",
        "\n",
        "K = 3\n",
        "#KFoldの設定\n",
        "kf = KFold(n_splits = K, shuffle = True, random_state = 1)\n",
        "j = 0\n",
        "plt.figure(figsize=(15, 30))  # グラフを表示するスペースを用意\n",
        " \n",
        "#交差検証\n",
        "for train, test in kf.split(x_train):\n",
        "    \n",
        "    history = model.fit(x_train[train],\n",
        "                        y_train[train],\n",
        "                        validation_data = (x_train[test], y_train[test]), \n",
        "                        epochs = 10)\n",
        "\n",
        "    metrics = ['loss', 'accuracy']  # 使用する評価関数を指定\n",
        "\n",
        "    for i in range(len(metrics)):\n",
        "        j += 1\n",
        "\n",
        "        metric = metrics[i]\n",
        "\n",
        "        plt.subplot(3, 2, j)\n",
        "        plt.title(metric)  # グラフのタイトルを表示\n",
        "    \n",
        "        plt_train = history.history[metric]  # historyから訓練データの評価を取り出す\n",
        "        plt_test = history.history['val_' + metric]  # historyからテストデータの評価を取り出す\n",
        "    \n",
        "        plt.plot(plt_train, label='training')  # 訓練データの評価をグラフにプロット\n",
        "        plt.plot(plt_test, label='test')  # テストデータの評価をグラフにプロット\n",
        "        plt.legend()  # ラベルの表示\n",
        "    \n",
        "plt.show()  # グラフの表示"
      ],
      "metadata": {
        "colab": {
          "base_uri": "https://localhost:8080/"
        },
        "id": "329QWcEZdU9E",
        "outputId": "a4355231-bf33-446f-acf4-0084af9403cf"
      },
      "execution_count": null,
      "outputs": [
        {
          "output_type": "stream",
          "name": "stdout",
          "text": [
            "Epoch 1/10\n",
            "1250/1250 [==============================] - 49s 39ms/step - loss: 0.5445 - accuracy: 0.8041 - val_loss: 0.4039 - val_accuracy: 0.8497\n",
            "Epoch 2/10\n",
            "1250/1250 [==============================] - 47s 37ms/step - loss: 0.3530 - accuracy: 0.8714 - val_loss: 0.3314 - val_accuracy: 0.8790\n",
            "Epoch 3/10\n",
            "1250/1250 [==============================] - 46s 37ms/step - loss: 0.2988 - accuracy: 0.8885 - val_loss: 0.2946 - val_accuracy: 0.8931\n",
            "Epoch 4/10\n",
            "1250/1250 [==============================] - 46s 37ms/step - loss: 0.2669 - accuracy: 0.9025 - val_loss: 0.2965 - val_accuracy: 0.8923\n",
            "Epoch 5/10\n",
            " 335/1250 [=======>......................] - ETA: 29s - loss: 0.2311 - accuracy: 0.9136"
          ]
        }
      ]
    }
  ]
}